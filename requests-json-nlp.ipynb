{
 "cells": [
  {
   "cell_type": "markdown",
   "metadata": {},
   "source": [
    "# Web Mining and Applied NLP (44-620)\n",
    "\n",
    "## Requests, JSON, and NLP\n",
    "\n",
    "### Student Name: Mel Scott\n",
    "\n",
    "# Repository Link :\n",
    "https://github.com/melscott2911/Module-4-Assignment\n",
    "\n",
    "Perform the tasks described in the Markdown cells below.  When you have completed the assignment make sure your code cells have all been run (and have output beneath them) and ensure you have committed and pushed ALL of your changes to your assignment repository.\n",
    "\n",
    "Make sure you have [installed spaCy and its pipeline](https://spacy.io/usage#quickstart) and [spaCyTextBlob](https://spacy.io/universe/project/spacy-textblob)\n",
    "\n",
    "Every question that requires you to write code will have a code cell underneath it; you may either write your entire solution in that cell or write it in a python file (`.py`), then import and run the appropriate code to answer the question.\n",
    "\n",
    "This assignment requires that you write additional files (either JSON or pickle files); make sure to submit those files in your repository as well."
   ]
  },
  {
   "cell_type": "markdown",
   "metadata": {},
   "source": [
    "1. The following code accesses the [lyrics.ovh](https://lyricsovh.docs.apiary.io/#reference/0/lyrics-of-a-song/search) public api, searches for the lyrics of a song, and stores it in a dictionary object.  Write the resulting json to a file (either a JSON file or a pickle file; you choose). You will read in the contents of this file for future questions so we do not need to frequently access the API."
   ]
  },
  {
   "cell_type": "markdown",
   "metadata": {},
   "source": [
    "# Question 1"
   ]
  },
  {
   "cell_type": "code",
   "execution_count": 35,
   "metadata": {},
   "outputs": [
    {
     "name": "stdout",
     "output_type": "stream",
     "text": [
      "[{'title': 'Life', 'author': 'Charlotte Bronte', 'lines': ['LIFE, believe, is not a dream', 'So dark as sages say;', 'Oft a little morning rain', 'Foretells a pleasant day.', 'Sometimes there are clouds of gloom,', 'But these are transient all;', 'If the shower will make the roses bloom,', 'O why lament its fall ?', '', 'Rapidly, merrily,', \"Life's sunny hours flit by,\", 'Gratefully, cheerily,', 'Enjoy them as they fly !', '', 'What though Death at times steps in', 'And calls our Best away ?', 'What though sorrow seems to win,', \"O'er hope, a heavy sway ?\", 'Yet hope again elastic springs,', 'Unconquered, though she fell;', 'Still buoyant are her golden wings,', 'Still strong to bear us well.', 'Manfully, fearlessly,', 'The day of trial bear,', 'For gloriously, victoriously,', 'Can courage quell despair !'], 'linecount': '24'}]\n"
     ]
    }
   ],
   "source": [
    "import requests\n",
    "import json\n",
    "\n",
    "AUTHOR='Charlotte Bronte'\n",
    "POEM = 'Life'\n",
    "\n",
    "\n",
    "URL = f'https://poetrydb.org/author,title/{AUTHOR};{POEM}'\n",
    "result = json.loads(requests.get(URL).text)\n",
    "poem = '\\n'.join(result[0]['lines']) \n",
    "print(result)\n",
    "\n"
   ]
  },
  {
   "cell_type": "code",
   "execution_count": 36,
   "metadata": {},
   "outputs": [],
   "source": [
    "import json\n",
    " \n",
    "# Python dict\n",
    "py_dictionary = {\n",
    "    'title': 'Life', \n",
    "    'author': 'Charlotte Bronte', \n",
    "    'lines': ['LIFE, believe, is not a dream', 'So dark as sages say;', 'Oft a little morning rain', 'Foretells a pleasant day.', 'Sometimes there are clouds of gloom,', 'But these are transient all;', 'If the shower will make the roses bloom,', 'O why lament its fall ?', '', 'Rapidly, merrily,', \"Life's sunny hours flit by,\", 'Gratefully, cheerily,', 'Enjoy them as they fly !', '', 'What though Death at times steps in', 'And calls our Best away ?', 'What though sorrow seems to win,', \"O'er hope, a heavy sway ?\", 'Yet hope again elastic springs,', 'Unconquered, though she fell;', 'Still buoyant are her golden wings,', 'Still strong to bear us well.', 'Manfully, fearlessly,', 'The day of trial bear,', 'For gloriously, victoriously,', 'Can courage quell despair !'], 'linecount': '24'\n",
    "}\n",
    "# Write to File\n",
    "with open('users.json', 'w') as json_file:\n",
    "  json.dump(py_dictionary, json_file)\n",
    "\n",
    "\n"
   ]
  },
  {
   "cell_type": "markdown",
   "metadata": {},
   "source": [
    "2. Read in the contents of your file.  Print the lyrics of the song (not the entire dictionary!) and use spaCyTextBlob to perform sentiment analysis on the lyrics.  Print the polarity score of the sentiment analysis.  Given that the range of the polarity score is `[-1.0,1.0]` which corresponds to how positive or negative the text in question is, do you think the lyrics have a more positive or negative connotaion?  Answer this question in a comment in your code cell."
   ]
  },
  {
   "cell_type": "markdown",
   "metadata": {},
   "source": [
    "# Question 2"
   ]
  },
  {
   "cell_type": "code",
   "execution_count": 37,
   "metadata": {},
   "outputs": [
    {
     "name": "stdout",
     "output_type": "stream",
     "text": [
      "LIFE, believe, is not a dream\n",
      "So dark as sages say;\n",
      "Oft a little morning rain\n",
      "Foretells a pleasant day.\n",
      "Sometimes there are clouds of gloom,\n",
      "But these are transient all;\n",
      "If the shower will make the roses bloom,\n",
      "O why lament its fall ?\n",
      "\n",
      "Rapidly, merrily,\n",
      "Life's sunny hours flit by,\n",
      "Gratefully, cheerily,\n",
      "Enjoy them as they fly !\n",
      "\n",
      "What though Death at times steps in\n",
      "And calls our Best away ?\n",
      "What though sorrow seems to win,\n",
      "O'er hope, a heavy sway ?\n",
      "Yet hope again elastic springs,\n",
      "Unconquered, though she fell;\n",
      "Still buoyant are her golden wings,\n",
      "Still strong to bear us well.\n",
      "Manfully, fearlessly,\n",
      "The day of trial bear,\n",
      "For gloriously, victoriously,\n",
      "Can courage quell despair !\n"
     ]
    }
   ],
   "source": [
    "\n",
    "  \n",
    "  \n",
    "import json\n",
    "  \n",
    "\n",
    "f = open('users.json')\n",
    "  \n",
    "\n",
    "data = json.load(f)\n",
    "  \n",
    "\n",
    "for i in data['lines']:\n",
    "    print(i)\n",
    "  \n",
    "\n",
    "f.close()"
   ]
  },
  {
   "cell_type": "code",
   "execution_count": 38,
   "metadata": {},
   "outputs": [],
   "source": [
    "import spacy\n",
    "nlp = spacy.load('en_core_web_sm')\n",
    "  "
   ]
  },
  {
   "cell_type": "code",
   "execution_count": 39,
   "metadata": {},
   "outputs": [
    {
     "name": "stdout",
     "output_type": "stream",
     "text": [
      "Requirement already satisfied: spacytextblob in /usr/local/Cellar/jupyterlab/3.4.8/libexec/lib/python3.10/site-packages (4.0.0)\n",
      "Requirement already satisfied: spacy<4.0,>=3.0 in /usr/local/Cellar/jupyterlab/3.4.8/libexec/lib/python3.10/site-packages (from spacytextblob) (3.4.3)\n",
      "Requirement already satisfied: textblob<0.16.0,>=0.15.3 in /usr/local/Cellar/jupyterlab/3.4.8/libexec/lib/python3.10/site-packages (from spacytextblob) (0.15.3)\n",
      "Requirement already satisfied: tqdm<5.0.0,>=4.38.0 in /usr/local/Cellar/jupyterlab/3.4.8/libexec/lib/python3.10/site-packages (from spacy<4.0,>=3.0->spacytextblob) (4.64.1)\n",
      "Requirement already satisfied: requests<3.0.0,>=2.13.0 in /usr/local/Cellar/jupyterlab/3.4.8/libexec/lib/python3.10/site-packages (from spacy<4.0,>=3.0->spacytextblob) (2.28.1)\n",
      "Requirement already satisfied: spacy-loggers<2.0.0,>=1.0.0 in /usr/local/Cellar/jupyterlab/3.4.8/libexec/lib/python3.10/site-packages (from spacy<4.0,>=3.0->spacytextblob) (1.0.3)\n",
      "Requirement already satisfied: srsly<3.0.0,>=2.4.3 in /usr/local/Cellar/jupyterlab/3.4.8/libexec/lib/python3.10/site-packages (from spacy<4.0,>=3.0->spacytextblob) (2.4.5)\n",
      "Requirement already satisfied: pydantic!=1.8,!=1.8.1,<1.11.0,>=1.7.4 in /usr/local/Cellar/jupyterlab/3.4.8/libexec/lib/python3.10/site-packages (from spacy<4.0,>=3.0->spacytextblob) (1.10.2)\n",
      "Requirement already satisfied: murmurhash<1.1.0,>=0.28.0 in /usr/local/Cellar/jupyterlab/3.4.8/libexec/lib/python3.10/site-packages (from spacy<4.0,>=3.0->spacytextblob) (1.0.9)\n",
      "Requirement already satisfied: jinja2 in /usr/local/Cellar/jupyterlab/3.4.8/libexec/lib/python3.10/site-packages (from spacy<4.0,>=3.0->spacytextblob) (3.1.2)\n",
      "Requirement already satisfied: wasabi<1.1.0,>=0.9.1 in /usr/local/Cellar/jupyterlab/3.4.8/libexec/lib/python3.10/site-packages (from spacy<4.0,>=3.0->spacytextblob) (0.10.1)\n",
      "Requirement already satisfied: packaging>=20.0 in /usr/local/Cellar/jupyterlab/3.4.8/libexec/lib/python3.10/site-packages (from spacy<4.0,>=3.0->spacytextblob) (21.3)\n",
      "Requirement already satisfied: thinc<8.2.0,>=8.1.0 in /usr/local/Cellar/jupyterlab/3.4.8/libexec/lib/python3.10/site-packages (from spacy<4.0,>=3.0->spacytextblob) (8.1.5)\n",
      "Requirement already satisfied: cymem<2.1.0,>=2.0.2 in /usr/local/Cellar/jupyterlab/3.4.8/libexec/lib/python3.10/site-packages (from spacy<4.0,>=3.0->spacytextblob) (2.0.7)\n",
      "Requirement already satisfied: pathy>=0.3.5 in /usr/local/Cellar/jupyterlab/3.4.8/libexec/lib/python3.10/site-packages (from spacy<4.0,>=3.0->spacytextblob) (0.6.2)\n",
      "Requirement already satisfied: spacy-legacy<3.1.0,>=3.0.10 in /usr/local/Cellar/jupyterlab/3.4.8/libexec/lib/python3.10/site-packages (from spacy<4.0,>=3.0->spacytextblob) (3.0.10)\n",
      "Requirement already satisfied: numpy>=1.15.0 in /usr/local/Cellar/jupyterlab/3.4.8/libexec/lib/python3.10/site-packages (from spacy<4.0,>=3.0->spacytextblob) (1.23.4)\n",
      "Requirement already satisfied: preshed<3.1.0,>=3.0.2 in /usr/local/Cellar/jupyterlab/3.4.8/libexec/lib/python3.10/site-packages (from spacy<4.0,>=3.0->spacytextblob) (3.0.8)\n",
      "Requirement already satisfied: typer<0.8.0,>=0.3.0 in /usr/local/Cellar/jupyterlab/3.4.8/libexec/lib/python3.10/site-packages (from spacy<4.0,>=3.0->spacytextblob) (0.7.0)\n",
      "Requirement already satisfied: catalogue<2.1.0,>=2.0.6 in /usr/local/Cellar/jupyterlab/3.4.8/libexec/lib/python3.10/site-packages (from spacy<4.0,>=3.0->spacytextblob) (2.0.8)\n",
      "Requirement already satisfied: setuptools in /usr/local/Cellar/jupyterlab/3.4.8/libexec/lib/python3.10/site-packages (from spacy<4.0,>=3.0->spacytextblob) (65.4.1)\n",
      "Requirement already satisfied: langcodes<4.0.0,>=3.2.0 in /usr/local/Cellar/jupyterlab/3.4.8/libexec/lib/python3.10/site-packages (from spacy<4.0,>=3.0->spacytextblob) (3.3.0)\n",
      "Requirement already satisfied: nltk>=3.1 in /usr/local/Cellar/jupyterlab/3.4.8/libexec/lib/python3.10/site-packages (from textblob<0.16.0,>=0.15.3->spacytextblob) (3.7)\n",
      "Requirement already satisfied: click in /usr/local/Cellar/jupyterlab/3.4.8/libexec/lib/python3.10/site-packages (from nltk>=3.1->textblob<0.16.0,>=0.15.3->spacytextblob) (8.1.3)\n",
      "Requirement already satisfied: joblib in /usr/local/Cellar/jupyterlab/3.4.8/libexec/lib/python3.10/site-packages (from nltk>=3.1->textblob<0.16.0,>=0.15.3->spacytextblob) (1.2.0)\n",
      "Requirement already satisfied: regex>=2021.8.3 in /usr/local/Cellar/jupyterlab/3.4.8/libexec/lib/python3.10/site-packages (from nltk>=3.1->textblob<0.16.0,>=0.15.3->spacytextblob) (2022.10.31)\n",
      "Requirement already satisfied: pyparsing!=3.0.5,>=2.0.2 in /usr/local/Cellar/jupyterlab/3.4.8/libexec/lib/python3.10/site-packages (from packaging>=20.0->spacy<4.0,>=3.0->spacytextblob) (3.0.9)\n",
      "Requirement already satisfied: smart-open<6.0.0,>=5.2.1 in /usr/local/Cellar/jupyterlab/3.4.8/libexec/lib/python3.10/site-packages (from pathy>=0.3.5->spacy<4.0,>=3.0->spacytextblob) (5.2.1)\n",
      "Requirement already satisfied: typing-extensions>=4.1.0 in /usr/local/Cellar/jupyterlab/3.4.8/libexec/lib/python3.10/site-packages (from pydantic!=1.8,!=1.8.1,<1.11.0,>=1.7.4->spacy<4.0,>=3.0->spacytextblob) (4.4.0)\n",
      "Requirement already satisfied: certifi>=2017.4.17 in /usr/local/Cellar/jupyterlab/3.4.8/libexec/lib/python3.10/site-packages (from requests<3.0.0,>=2.13.0->spacy<4.0,>=3.0->spacytextblob) (2022.9.24)\n",
      "Requirement already satisfied: urllib3<1.27,>=1.21.1 in /usr/local/Cellar/jupyterlab/3.4.8/libexec/lib/python3.10/site-packages (from requests<3.0.0,>=2.13.0->spacy<4.0,>=3.0->spacytextblob) (1.26.12)\n",
      "Requirement already satisfied: idna<4,>=2.5 in /usr/local/Cellar/jupyterlab/3.4.8/libexec/lib/python3.10/site-packages (from requests<3.0.0,>=2.13.0->spacy<4.0,>=3.0->spacytextblob) (3.4)\n",
      "Requirement already satisfied: charset-normalizer<3,>=2 in /usr/local/Cellar/jupyterlab/3.4.8/libexec/lib/python3.10/site-packages (from requests<3.0.0,>=2.13.0->spacy<4.0,>=3.0->spacytextblob) (2.1.1)\n",
      "Requirement already satisfied: blis<0.8.0,>=0.7.8 in /usr/local/Cellar/jupyterlab/3.4.8/libexec/lib/python3.10/site-packages (from thinc<8.2.0,>=8.1.0->spacy<4.0,>=3.0->spacytextblob) (0.7.9)\n",
      "Requirement already satisfied: confection<1.0.0,>=0.0.1 in /usr/local/Cellar/jupyterlab/3.4.8/libexec/lib/python3.10/site-packages (from thinc<8.2.0,>=8.1.0->spacy<4.0,>=3.0->spacytextblob) (0.0.3)\n",
      "Requirement already satisfied: MarkupSafe>=2.0 in /usr/local/Cellar/jupyterlab/3.4.8/libexec/lib/python3.10/site-packages (from jinja2->spacy<4.0,>=3.0->spacytextblob) (2.1.1)\n",
      "\n",
      "\u001b[1m[\u001b[0m\u001b[34;49mnotice\u001b[0m\u001b[1;39;49m]\u001b[0m\u001b[39;49m A new release of pip available: \u001b[0m\u001b[31;49m22.2.2\u001b[0m\u001b[39;49m -> \u001b[0m\u001b[32;49m22.3.1\u001b[0m\n",
      "\u001b[1m[\u001b[0m\u001b[34;49mnotice\u001b[0m\u001b[1;39;49m]\u001b[0m\u001b[39;49m To update, run: \u001b[0m\u001b[32;49m/usr/local/Cellar/jupyterlab/3.4.8/libexec/bin/python3.10 -m pip install --upgrade pip\u001b[0m\n",
      "Note: you may need to restart the kernel to use updated packages.\n"
     ]
    }
   ],
   "source": [
    "pip install spacytextblob"
   ]
  },
  {
   "cell_type": "code",
   "execution_count": 40,
   "metadata": {},
   "outputs": [],
   "source": [
    "from spacytextblob.spacytextblob import SpacyTextBlob"
   ]
  },
  {
   "cell_type": "code",
   "execution_count": 41,
   "metadata": {},
   "outputs": [
    {
     "data": {
      "text/plain": [
       "<spacytextblob.spacytextblob.SpacyTextBlob at 0x1149f36d0>"
      ]
     },
     "execution_count": 41,
     "metadata": {},
     "output_type": "execute_result"
    }
   ],
   "source": [
    "nlp.add_pipe('spacytextblob')"
   ]
  },
  {
   "cell_type": "code",
   "execution_count": 42,
   "metadata": {},
   "outputs": [],
   "source": [
    "text = \"LIFE, believe, is not a dream So dark as sages say Oft a little morning rain Foretells a pleasant day Sometimes there are clouds of gloom,But these are transient all;If the shower will make the roses bloom,O why lament its fall ?Rapidly, merrily,Life's sunny hours flit by,Gratefully, cheerily,Enjoy them as they fly !What though Death at times steps inAnd calls our Best away ?What though sorrow seems to win,O'er hope, a heavy sway ?Yet hope again elastic springs,Unconquered, though she fell;Still buoyant are her golden wings,Still strong to bear us well.Manfully, fearlessly,The day of trial bear,For gloriously, victoriously,Can courage quell despair !\"\n"
   ]
  },
  {
   "cell_type": "code",
   "execution_count": 43,
   "metadata": {},
   "outputs": [
    {
     "data": {
      "text/plain": [
       "0.3796874999999999"
      ]
     },
     "execution_count": 43,
     "metadata": {},
     "output_type": "execute_result"
    }
   ],
   "source": [
    "docx = nlp(text)\n",
    "docx._.polarity"
   ]
  },
  {
   "cell_type": "markdown",
   "metadata": {},
   "source": [
    "# Question 2 Comment:"
   ]
  },
  {
   "cell_type": "markdown",
   "metadata": {},
   "source": [
    " #This text's polarity came out as positive. I would agree with this because of some keywords within the text that seem happy. For example \"dream\", \"pleasant\", \"bloom\", \"merrily\" and \"sunny,\" These words outweigh the few negative words."
   ]
  },
  {
   "cell_type": "markdown",
   "metadata": {},
   "source": [
    "3. Write a function that takes an artist, song, and filename, accesses the lyrics.ovh api to get the song lyrics, and writes the results to the specified filename.  Test this function by getting the lyrics to any four songs of your choice and storing them in different files."
   ]
  },
  {
   "cell_type": "markdown",
   "metadata": {},
   "source": [
    "# Question 3"
   ]
  },
  {
   "cell_type": "code",
   "execution_count": 23,
   "metadata": {},
   "outputs": [
    {
     "name": "stdout",
     "output_type": "stream",
     "text": [
      "[{'title': 'Passion', 'author': 'Charlotte Bronte', 'lines': ['SOME have won a wild delight,', 'By daring wilder sorrow;', 'Could I gain thy love to-night,', \"I'd hazard death to-morrow.\", '', 'Could the battle-struggle earn', 'One kind glance from thine eye,', 'How this withering heart would burn,', 'The heady fight to try !', '', 'Welcome nights of broken sleep,', 'And days of carnage cold,', 'Could I deem that thou wouldst weep', 'To hear my perils told.', '', 'Tell me, if with wandering bands', 'I roam full far away,', 'Wilt thou, to those distant lands,', 'In spirit ever stray ?', '', 'Wild, long, a trumpet sounds afar;', 'Bid me\\xadbid me go', 'Where Seik and Briton meet in war,', \"On Indian Sutlej's flow.\", '', \"Blood has dyed the Sutlej's waves\", 'With scarlet stain, I know;', \"Indus' borders yawn with graves,\", 'Yet, command me go !', '', 'Though rank and high the holocaust', 'Of nations, steams to heaven,', \"Glad I'd join the death-doomed host,\", 'Were but the mandate given.', '', \"Passion's strength should nerve my arm,\", 'Its ardour stir my life,', 'Till human force to that dread charm', 'Should yield and sink in wild alarm,', 'Like trees to tempest-strife.', '', 'If, hot from war, I seek thy love,', 'Darest thou turn aside ?', 'Darest thou, then, my fire reprove,', 'By scorn, and maddening pride ?', '', 'No\\xadmy will shall yet control', 'Thy will, so high and free,', 'And love shall tame that haughty soul\\xad', 'Yes\\xadtenderest love for me.', '', \"I'll read my triumph in thine eyes,\", 'Behold, and prove the change;', 'Then leave, perchance, my noble prize,', 'Once more in arms to range.', '', \"I'd die when all the foam is up,\", 'The bright wine sparkling high;', 'Nor wait till in the exhausted cup', \"Life's dull dregs only lie.\", '', 'Then Love thus crowned with sweet reward,', 'Hope blest with fulness large,', \"I'd mount the saddle, draw the sword,\", 'And perish in the charge!'], 'linecount': '53'}]\n"
     ]
    }
   ],
   "source": [
    "import requests\n",
    "import json\n",
    "\n",
    "AUTHOR='Charlotte Bronte'\n",
    "POEM = 'Passion'\n",
    "\n",
    "\n",
    "URL = f'https://poetrydb.org/author,title/{AUTHOR};{POEM}'\n",
    "result = json.loads(requests.get(URL).text)\n",
    "poem = '\\n'.join(result[0]['lines']) \n",
    "print(result)\n",
    "\n",
    "import json\n",
    " \n",
    "# Python dict\n",
    "py_dictionary = {\n",
    "    'title': 'Passion',\n",
    "    'author': 'Charlotte Bronte', \n",
    "    'lines': ['SOME have won a wild delight,', 'By daring wilder sorrow;', 'Could I gain thy love to-night,', \"I'd hazard death to-morrow.\", '', 'Could the battle-struggle earn', 'One kind glance from thine eye,', 'How this withering heart would burn,', 'The heady fight to try !', '', 'Welcome nights of broken sleep,', 'And days of carnage cold,', 'Could I deem that thou wouldst weep', 'To hear my perils told.', '', 'Tell me, if with wandering bands', 'I roam full far away,', 'Wilt thou, to those distant lands,', 'In spirit ever stray ?', '', 'Wild, long, a trumpet sounds afar;', 'Bid me\\xadbid me go', 'Where Seik and Briton meet in war,', \"On Indian Sutlej's flow.\", '', \"Blood has dyed the Sutlej's waves\", 'With scarlet stain, I know;', \"Indus' borders yawn with graves,\", 'Yet, command me go !', '', 'Though rank and high the holocaust', 'Of nations, steams to heaven,', \"Glad I'd join the death-doomed host,\", 'Were but the mandate given.', '', \"Passion's strength should nerve my arm,\", 'Its ardour stir my life,', 'Till human force to that dread charm', 'Should yield and sink in wild alarm,', 'Like trees to tempest-strife.', '', 'If, hot from war, I seek thy love,', 'Darest thou turn aside ?', 'Darest thou, then, my fire reprove,', 'By scorn, and maddening pride ?', '', 'No\\xadmy will shall yet control', 'Thy will, so high and free,', 'And love shall tame that haughty soul\\xad', 'Yes\\xadtenderest love for me.', '', \"I'll read my triumph in thine eyes,\", 'Behold, and prove the change;', 'Then leave, perchance, my noble prize,', 'Once more in arms to range.', '', \"I'd die when all the foam is up,\", 'The bright wine sparkling high;', 'Nor wait till in the exhausted cup', \"Life's dull dregs only lie.\", '', 'Then Love thus crowned with sweet reward,', 'Hope blest with fulness large,', \"I'd mount the saddle, draw the sword,\", 'And perish in the charge!']\n",
    "}\n",
    "# Write to File\n",
    "with open('users.json1', 'w') as json_file:\n",
    "  json.dump(py_dictionary, json_file)"
   ]
  },
  {
   "cell_type": "code",
   "execution_count": 25,
   "metadata": {},
   "outputs": [
    {
     "name": "stdout",
     "output_type": "stream",
     "text": [
      "[{'title': 'Winter Stores', 'author': 'Charlotte Bronte', 'lines': ['WE take from life one little share,', 'And say that this shall be', 'A space, redeemed from toil and care,', 'From tears and sadness free.', '', 'And, haply, Death unstrings his bow', 'And Sorrow stands apart,', 'And, for a little while, we know', 'The sunshine of the heart.', '', 'Existence seems a summer eve,', 'Warm, soft, and full of peace;', 'Our free, unfettered feelings give', 'The soul its full release.', '', 'A moment, then, it takes the power,', 'To call up thoughts that throw', 'Around that charmed and hallowed hour,', \"This life's divinest glow.\", '', 'But Time, though viewlessly it flies,', 'And slowly, will not stay;', 'Alike, through clear and clouded skies,', 'It cleaves its silent way.', '', 'Alike the bitter cup of grief,', 'Alike the draught of bliss,', 'Its progress leaves but moment brief', 'For baffled lips to kiss.', '', 'The sparkling draught is dried away,', 'The hour of rest is gone,', 'And urgent voices, round us, say,', \"' Ho, lingerer, hasten on !'\", '', 'And has the soul, then, only gained,', 'From this brief time of ease,', \"A moment's rest, when overstrained,\", 'One hurried glimpse of peace ?', '', \"No; while the sun shone kindly o'er us,\", 'And flowers bloomed round our feet,\\xad', 'While many a bud of joy before us', 'Unclosed its petals sweet,\\xad', '', 'An unseen work within was plying;', 'Like honey-seeking bee,', 'From flower to flower, unwearied, flying,', 'Laboured one faculty,\\xad', '', \"Thoughtful for Winter's future sorrow,\", 'Its gloom and scarcity;', 'Prescient to-day, of want to-morrow,', 'Toiled quiet Memory.', '', \"'Tis she that from each transient pleasure\", 'Extracts a lasting good;', \"'Tis she that finds, in summer, treasure\", \"To serve for winter's food.\", '', \"And when Youth's summer day is vanished,\", \"And Age brings Winter's stress,\", 'Her stores, with hoarded sweets replenished,', \"Life's evening hours will bless.\"], 'linecount': '52'}]\n"
     ]
    }
   ],
   "source": [
    "import requests\n",
    "import json\n",
    "\n",
    "AUTHOR='Charlotte Bronte'\n",
    "POEM = 'Winter Stores'\n",
    "\n",
    "\n",
    "URL = f'https://poetrydb.org/author,title/{AUTHOR};{POEM}'\n",
    "result = json.loads(requests.get(URL).text)\n",
    "poem = '\\n'.join(result[0]['lines']) \n",
    "print(result)\n",
    "\n",
    "import json\n",
    " \n",
    "# Python dict\n",
    "py_dictionary = {\n",
    "    'title': 'Winter Stores', \n",
    "    'author': 'Charlotte Bronte', \n",
    "    'lines': ['WE take from life one little share,', 'And say that this shall be', 'A space, redeemed from toil and care,', 'From tears and sadness free.', '', 'And, haply, Death unstrings his bow', 'And Sorrow stands apart,', 'And, for a little while, we know', 'The sunshine of the heart.', '', 'Existence seems a summer eve,', 'Warm, soft, and full of peace;', 'Our free, unfettered feelings give', 'The soul its full release.', '', 'A moment, then, it takes the power,', 'To call up thoughts that throw', 'Around that charmed and hallowed hour,', \"This life's divinest glow.\", '', 'But Time, though viewlessly it flies,', 'And slowly, will not stay;', 'Alike, through clear and clouded skies,', 'It cleaves its silent way.', '', 'Alike the bitter cup of grief,', 'Alike the draught of bliss,', 'Its progress leaves but moment brief', 'For baffled lips to kiss.', '', 'The sparkling draught is dried away,', 'The hour of rest is gone,', 'And urgent voices, round us, say,', \"' Ho, lingerer, hasten on !'\", '', 'And has the soul, then, only gained,', 'From this brief time of ease,', \"A moment's rest, when overstrained,\", 'One hurried glimpse of peace ?', '', \"No; while the sun shone kindly o'er us,\", 'And flowers bloomed round our feet,\\xad', 'While many a bud of joy before us', 'Unclosed its petals sweet,\\xad', '', 'An unseen work within was plying;', 'Like honey-seeking bee,', 'From flower to flower, unwearied, flying,', 'Laboured one faculty,\\xad', '', \"Thoughtful for Winter's future sorrow,\", 'Its gloom and scarcity;', 'Prescient to-day, of want to-morrow,', 'Toiled quiet Memory.', '', \"'Tis she that from each transient pleasure\", 'Extracts a lasting good;', \"'Tis she that finds, in summer, treasure\", \"To serve for winter's food.\", '', \"And when Youth's summer day is vanished,\", \"And Age brings Winter's stress,\", 'Her stores, with hoarded sweets replenished,', \"Life's evening hours will bless.\"]\n",
    "}\n",
    "    # Write to File\n",
    "with open('users.json2', 'w') as json_file:\n",
    "  json.dump(py_dictionary, json_file)"
   ]
  },
  {
   "cell_type": "code",
   "execution_count": 26,
   "metadata": {},
   "outputs": [
    {
     "name": "stdout",
     "output_type": "stream",
     "text": [
      "[{'title': \"Pilate's Wife's Dream\", 'author': 'Charlotte Bronte', 'lines': [\"I've quenched my lamp, I struck it in that start\", 'Which every limb convulsed, I heard it fall\\xad', 'The crash blent with my sleep, I saw depart', 'Its light, even as I woke, on yonder wall;', 'Over against my bed, there shone a gleam', 'Strange, faint, and mingling also with my dream.', '', 'It sunk, and I am wrapt in utter gloom;', 'How far is night advanced, and when will day', 'Retinge the dusk and livid air with bloom,', 'And fill this void with warm, creative ray ?', 'Would I could sleep again till, clear and red,', 'Morning shall on the mountain-tops be spread!', '', \"I'd call my women, but to break their sleep,\", 'Because my own is broken, were unjust;', '', \"They've wrought all day, and well-earned slumbers steep\", 'Their labours in forgetfulness, I trust;', 'Let me my feverish watch with patience bear,', 'Thankful that none with me its sufferings share.', '', 'Yet, Oh, for light ! one ray would tranquilise', 'My nerves, my pulses, more than effort can;', \"I'll draw my curtain and consult the skies:\", 'These trembling stars at dead of night look wan,', 'Wild, restless, strange, yet cannot be more drear', 'Than this my couch, shared by a nameless fear.', '', 'All black\\xadone great cloud, drawn from east to west,', 'Conceals the heavens, but there are lights below;', 'Torches burn in Jerusalem, and cast', 'On yonder stony mount a lurid glow.', 'I see men stationed there, and gleaming spears;', 'A sound, too, from afar, invades my ears.', '', 'Dull, measured, strokes of axe and hammer ring', 'From street to street, not loud, but through the night', 'Distinctly heard\\xadand some strange spectral thing', 'Is now upreared\\xadand, fixed against the light', 'Of the pale lamps; defined upon that sky,', 'It stands up like a column, straight and high.', '', 'I see it all\\xadI know the dusky sign\\xad', 'A cross on Calvary, which Jews uprear', '', 'While Romans watch; and when the dawn shall shine', 'Pilate, to judge the victim will appear,', 'Pass sentence\\xadyield him up to crucify;', 'And on that cross the spotless Christ must die.', '', 'Dreams, then, are true\\xadfor thus my vision ran;', 'Surely some oracle has been with me,', 'The gods have chosen me to reveal their plan,', 'To warn an unjust judge of destiny:', 'I, slumbering, heard and saw; awake I know,', \"Christ's coming death, and Pilate's life of woe.\", '', 'I do not weep for Pilate\\xadwho could prove', 'Regret for him whose cold and crushing sway', 'No prayer can soften, no appeal can move;', 'Who tramples hearts as others trample clay,', 'Yet with a faltering, an uncertain tread,', 'That might stir up reprisal in the dead.', '', 'Forced to sit by his side and see his deeds;', 'Forced to behold that visage, hour by hour,', 'In whose gaunt lines, the abhorrent gazer reads', 'A triple lust of gold, and blood, and power;', 'A soul whom motives, fierce, yet abject, urge', \"Rome's servile slave, and Judah's tyrant scourge.\", '', 'How can I love, or mourn, or pity him ?', 'I, who so long my fettered hands have wrung;', '', 'I, who for grief have wept my eye-sight dim;', 'Because, while life for me was bright and young,', \"He robbed my youth\\xadhe quenched my life's fair ray\\xad\", 'He crushed my mind, and did my freedom slay.', '', '', 'And at this hour\\xadalthough I be his wife\\xad', 'He has no more of tenderness from me', 'Than any other wretch of guilty life;', 'Less, for I know his household privacy\\xad', 'I see him as he is\\xadwithout a screen;', 'And, by the gods, my soul abhors his mien !', '', 'Has he not sought my presence, dyed in blood\\xad', 'Innocent, righteous blood, shed shamelessly ?', 'And have I not his red salute withstood ?', 'Aye,\\xadwhen, as erst, he plunged all Galilee', 'In dark bereavement\\xadin affliction sore,', 'Mingling their very offerings with their gore.', '', 'Then came he\\xadin his eyes a serpent-smile,', 'Upon his lips some false, endearing word,', 'And, through the streets of Salem, clanged the while,', 'His slaughtering, hacking, sacrilegious sword\\xad', 'And I, to see a man cause men such woe,', 'Trembled with ire\\xadI did not fear to show.', '', 'And now, the envious Jewish priests have brought', 'Jesus\\xadwhom they in mockery call their king\\xad', '', 'To have, by this grim power, their vengeance wrought;', 'By this mean reptile, innocence to sting.', 'Oh ! could I but the purposed doom avert,', 'And shield the blameless head from cruel hurt!', '', \"Accessible is Pilate's heart to fear,\", 'Omens will shake his soul, like autumn leaf;', \"Could he this night's appalling vision hear,\", \"This just man's bonds were loosed, his life were safe,\", 'Unless that bitter priesthood should prevail,', 'And make even terror to their malice quail.', '', 'Yet if I tell the dream\\xadbut let me pause.', 'What dream ? Erewhile the characters were clear,', 'Graved on my brain\\xadat once some unknown cause', 'Has dimmed and rased the thoughts, which now appear,', 'Like a vague remnant of some by-past scene;\\xad', 'Not what will be, but what, long since, has been.', '', 'I suffered many things, I heard foretold', 'A dreadful doom for Pilate,\\xadlingering woes,', 'In far, barbarian climes, where mountains cold', 'Built up a solitude of trackless snows,', 'There, he and grisly wolves prowled side by side,', 'There he lived famished\\xadthere methought he died;', '', 'But not of hunger, nor by malady;', 'I saw the snow around him, stained with gore;', '', 'I said I had no tears for such as he,', \"And, lo ! my cheek is wet\\xadmine eyes run o'er;\", 'I weep for mortal suffering, mortal guilt,', 'I weep the impious deed\\xadthe blood self-spilt.', '', 'More I recall not, yet the vision spread', 'Into a world remote, an age to come\\xad', 'And still the illumined name of Jesus shed', 'A light, a clearness, through the enfolding gloom\\xad', 'And still I saw that sign, which now I see,', 'That cross on yonder brow of Calvary.', '', 'What is this Hebrew Christ ? To me unknown,', 'His lineage\\xaddoctrine\\xadmission\\xadyet how clear,', 'Is God-like goodness, in his actions shewn !', \"How straight and stainless is his life's career !\", 'The ray of Deity that rests on him,', 'In my eyes makes Olympian glory dim.', '', 'The world advances, Greek, or Roman rite', 'Suffices not the inquiring mind to stay;', 'The searching soul demands a purer light', 'To guide it on its upward, onward way;', 'Ashamed of sculptured gods\\xadReligion turns', \"To where the unseen Jehovah's altar burns.\", '', 'Our faith is rotten\\xadall our rites defiled,', 'Our temples sullied, and methinks, this man,', 'With his new ordinance, so wise and mild,', 'Is come, even as he says, the chaff to fan', '', 'And sever from the wheat; but will his faith', \"Survive the terrors of to-morrow's death ?\", '', '* * * * *', '', 'I feel a firmer trust\\xada higher hope', 'Rise in my soul\\xadit dawns with dawning day;', \"Lo ! on the Temple's roof\\xadon Moriah's slope\", 'Appears at length that clear, and crimson ray,', 'Which I so wished for when shut in by night;', 'Oh, opening skies, I hail, I bless your light !', '', 'Part, clouds and shadows ! glorious Sun appear !', 'Part, mental gloom ! Come insight from on high !', 'Dusk dawn in heaven still strives with daylight clear,', 'The longing soul, doth still uncertain sigh.', 'Oh ! to behold the truth\\xadthat sun divine,', 'How doth my bosom pant, my spirit pine !', '', 'This day, time travails with a mighty birth,', 'This day, Truth stoops from heaven and visits earth,', 'Ere night descends, I shall more surely know', 'What guide to follow, in what path to go;', 'I wait in hope\\xadI wait in solemn fear,', 'The oracle of God\\xadthe sole\\xadtrue God\\xadto hear.'], 'linecount': '157'}]\n"
     ]
    }
   ],
   "source": [
    "import requests\n",
    "import json\n",
    "\n",
    "AUTHOR='Charlotte Bronte'\n",
    "POEM = \"Pilate's Wife's Dream\"\n",
    "\n",
    "\n",
    "URL = f'https://poetrydb.org/author,title/{AUTHOR};{POEM}'\n",
    "result = json.loads(requests.get(URL).text)\n",
    "poem = '\\n'.join(result[0]['lines']) \n",
    "print(result)\n",
    "\n",
    "import json\n",
    " \n",
    "# Python dict\n",
    "py_dictionary = {\n",
    "    'title': \"Pilate's Wife's Dream\", \n",
    "    'author': 'Charlotte Bronte', \n",
    "    'lines': [\"I've quenched my lamp, I struck it in that start\", 'Which every limb convulsed, I heard it fall\\xad', 'The crash blent with my sleep, I saw depart', 'Its light, even as I woke, on yonder wall;', 'Over against my bed, there shone a gleam', 'Strange, faint, and mingling also with my dream.', '', 'It sunk, and I am wrapt in utter gloom;', 'How far is night advanced, and when will day', 'Retinge the dusk and livid air with bloom,', 'And fill this void with warm, creative ray ?', 'Would I could sleep again till, clear and red,', 'Morning shall on the mountain-tops be spread!', '', \"I'd call my women, but to break their sleep,\", 'Because my own is broken, were unjust;', '', \"They've wrought all day, and well-earned slumbers steep\", 'Their labours in forgetfulness, I trust;', 'Let me my feverish watch with patience bear,', 'Thankful that none with me its sufferings share.', '', 'Yet, Oh, for light ! one ray would tranquilise', 'My nerves, my pulses, more than effort can;', \"I'll draw my curtain and consult the skies:\", 'These trembling stars at dead of night look wan,', 'Wild, restless, strange, yet cannot be more drear', 'Than this my couch, shared by a nameless fear.', '', 'All black\\xadone great cloud, drawn from east to west,', 'Conceals the heavens, but there are lights below;', 'Torches burn in Jerusalem, and cast', 'On yonder stony mount a lurid glow.', 'I see men stationed there, and gleaming spears;', 'A sound, too, from afar, invades my ears.', '', 'Dull, measured, strokes of axe and hammer ring', 'From street to street, not loud, but through the night', 'Distinctly heard\\xadand some strange spectral thing', 'Is now upreared\\xadand, fixed against the light', 'Of the pale lamps; defined upon that sky,', 'It stands up like a column, straight and high.', '', 'I see it all\\xadI know the dusky sign\\xad', 'A cross on Calvary, which Jews uprear', '', 'While Romans watch; and when the dawn shall shine', 'Pilate, to judge the victim will appear,', 'Pass sentence\\xadyield him up to crucify;', 'And on that cross the spotless Christ must die.', '', 'Dreams, then, are true\\xadfor thus my vision ran;', 'Surely some oracle has been with me,', 'The gods have chosen me to reveal their plan,', 'To warn an unjust judge of destiny:', 'I, slumbering, heard and saw; awake I know,', \"Christ's coming death, and Pilate's life of woe.\", '', 'I do not weep for Pilate\\xadwho could prove', 'Regret for him whose cold and crushing sway', 'No prayer can soften, no appeal can move;', 'Who tramples hearts as others trample clay,', 'Yet with a faltering, an uncertain tread,', 'That might stir up reprisal in the dead.', '', 'Forced to sit by his side and see his deeds;', 'Forced to behold that visage, hour by hour,', 'In whose gaunt lines, the abhorrent gazer reads', 'A triple lust of gold, and blood, and power;', 'A soul whom motives, fierce, yet abject, urge', \"Rome's servile slave, and Judah's tyrant scourge.\", '', 'How can I love, or mourn, or pity him ?', 'I, who so long my fettered hands have wrung;', '', 'I, who for grief have wept my eye-sight dim;', 'Because, while life for me was bright and young,', \"He robbed my youth\\xadhe quenched my life's fair ray\\xad\", 'He crushed my mind, and did my freedom slay.', '', '', 'And at this hour\\xadalthough I be his wife\\xad', 'He has no more of tenderness from me', 'Than any other wretch of guilty life;', 'Less, for I know his household privacy\\xad', 'I see him as he is\\xadwithout a screen;', 'And, by the gods, my soul abhors his mien !', '', 'Has he not sought my presence, dyed in blood\\xad', 'Innocent, righteous blood, shed shamelessly ?', 'And have I not his red salute withstood ?', 'Aye,\\xadwhen, as erst, he plunged all Galilee', 'In dark bereavement\\xadin affliction sore,', 'Mingling their very offerings with their gore.', '', 'Then came he\\xadin his eyes a serpent-smile,', 'Upon his lips some false, endearing word,', 'And, through the streets of Salem, clanged the while,', 'His slaughtering, hacking, sacrilegious sword\\xad', 'And I, to see a man cause men such woe,', 'Trembled with ire\\xadI did not fear to show.', '', 'And now, the envious Jewish priests have brought', 'Jesus\\xadwhom they in mockery call their king\\xad', '', 'To have, by this grim power, their vengeance wrought;', 'By this mean reptile, innocence to sting.', 'Oh ! could I but the purposed doom avert,', 'And shield the blameless head from cruel hurt!', '', \"Accessible is Pilate's heart to fear,\", 'Omens will shake his soul, like autumn leaf;', \"Could he this night's appalling vision hear,\", \"This just man's bonds were loosed, his life were safe,\", 'Unless that bitter priesthood should prevail,', 'And make even terror to their malice quail.', '', 'Yet if I tell the dream\\xadbut let me pause.', 'What dream ? Erewhile the characters were clear,', 'Graved on my brain\\xadat once some unknown cause', 'Has dimmed and rased the thoughts, which now appear,', 'Like a vague remnant of some by-past scene;\\xad', 'Not what will be, but what, long since, has been.', '', 'I suffered many things, I heard foretold', 'A dreadful doom for Pilate,\\xadlingering woes,', 'In far, barbarian climes, where mountains cold', 'Built up a solitude of trackless snows,', 'There, he and grisly wolves prowled side by side,', 'There he lived famished\\xadthere methought he died;', '', 'But not of hunger, nor by malady;', 'I saw the snow around him, stained with gore;', '', 'I said I had no tears for such as he,', \"And, lo ! my cheek is wet\\xadmine eyes run o'er;\", 'I weep for mortal suffering, mortal guilt,', 'I weep the impious deed\\xadthe blood self-spilt.', '', 'More I recall not, yet the vision spread', 'Into a world remote, an age to come\\xad', 'And still the illumined name of Jesus shed', 'A light, a clearness, through the enfolding gloom\\xad', 'And still I saw that sign, which now I see,', 'That cross on yonder brow of Calvary.', '', 'What is this Hebrew Christ ? To me unknown,', 'His lineage\\xaddoctrine\\xadmission\\xadyet how clear,', 'Is God-like goodness, in his actions shewn !', \"How straight and stainless is his life's career !\", 'The ray of Deity that rests on him,', 'In my eyes makes Olympian glory dim.', '', 'The world advances, Greek, or Roman rite', 'Suffices not the inquiring mind to stay;', 'The searching soul demands a purer light', 'To guide it on its upward, onward way;', 'Ashamed of sculptured gods\\xadReligion turns', \"To where the unseen Jehovah's altar burns.\", '', 'Our faith is rotten\\xadall our rites defiled,', 'Our temples sullied, and methinks, this man,', 'With his new ordinance, so wise and mild,', 'Is come, even as he says, the chaff to fan', '', 'And sever from the wheat; but will his faith', \"Survive the terrors of to-morrow's death ?\", '', '* * * * *', '', 'I feel a firmer trust\\xada higher hope', 'Rise in my soul\\xadit dawns with dawning day;', \"Lo ! on the Temple's roof\\xadon Moriah's slope\", 'Appears at length that clear, and crimson ray,', 'Which I so wished for when shut in by night;', 'Oh, opening skies, I hail, I bless your light !', '', 'Part, clouds and shadows ! glorious Sun appear !', 'Part, mental gloom ! Come insight from on high !', 'Dusk dawn in heaven still strives with daylight clear,', 'The longing soul, doth still uncertain sigh.', 'Oh ! to behold the truth\\xadthat sun divine,', 'How doth my bosom pant, my spirit pine !', '', 'This day, time travails with a mighty birth,', 'This day, Truth stoops from heaven and visits earth,', 'Ere night descends, I shall more surely know', 'What guide to follow, in what path to go;', 'I wait in hope\\xadI wait in solemn fear,', 'The oracle of God\\xadthe sole\\xadtrue God\\xadto hear.'] \n",
    "}\n",
    "# Write to File\n",
    "with open('users.json3', 'w') as json_file:\n",
    "  json.dump(py_dictionary, json_file)"
   ]
  },
  {
   "cell_type": "code",
   "execution_count": 28,
   "metadata": {},
   "outputs": [
    {
     "name": "stdout",
     "output_type": "stream",
     "text": [
      "[{'title': 'Speak Of The North! A Lonely Moor', 'author': 'Charlotte Bronte', 'lines': ['Speak of the North! A lonely moor', 'Silent and dark and tractless swells,', 'The waves of some wild streamlet pour', 'Hurriedly through its ferny dells.', '', 'Profoundly still the twilight air,', 'Lifeless the landscape; so we deem', 'Till like a phantom gliding near', 'A stag bends down to drink the stream.', '', 'And far away a mountain zone,', 'A cold, white waste of snow-drifts lies,', 'And one star, large and soft and lone,', 'Silently lights the unclouded skies.'], 'linecount': '12'}]\n"
     ]
    }
   ],
   "source": [
    "import requests\n",
    "import json\n",
    "\n",
    "AUTHOR='Charlotte Bronte'\n",
    "POEM = \"Speak Of The North! A Lonely Moor\"\n",
    "\n",
    "\n",
    "URL = f'https://poetrydb.org/author,title/{AUTHOR};{POEM}'\n",
    "result = json.loads(requests.get(URL).text)\n",
    "poem = '\\n'.join(result[0]['lines']) \n",
    "print(result)\n",
    "\n",
    "import json\n",
    " \n",
    "# Python dict\n",
    "py_dictionary = {\n",
    "    'title': \"Speak Of The North! A Lonely Moor\", \n",
    "    'author': 'Charlotte Bronte', \n",
    "    'lines': ['Speak of the North! A lonely moor', 'Silent and dark and tractless swells,', 'The waves of some wild streamlet pour', 'Hurriedly through its ferny dells.', '', 'Profoundly still the twilight air,', 'Lifeless the landscape; so we deem', 'Till like a phantom gliding near', 'A stag bends down to drink the stream.', '', 'And far away a mountain zone,', 'A cold, white waste of snow-drifts lies,', 'And one star, large and soft and lone,', 'Silently lights the unclouded skies.']\n",
    "}\n",
    "    # Write to File\n",
    "with open('users.json4', 'w') as json_file:\n",
    "  json.dump(py_dictionary, json_file)"
   ]
  },
  {
   "cell_type": "markdown",
   "metadata": {},
   "source": [
    "4. Write a function that takes the name of a file that contains song lyrics, loads the file, performs sentiment analysis, and returns the polarity score.  Use this function to print the polarity scores (with the name of the song) of the three files you created in question 3.  Does the reported polarity match your understanding of the song's lyrics? Why or why not do you think that might be?  Answer the questions in either a comment in the code cell or a markdown cell under the code cell."
   ]
  },
  {
   "cell_type": "markdown",
   "metadata": {},
   "source": [
    "# Question 4"
   ]
  },
  {
   "cell_type": "code",
   "execution_count": 45,
   "metadata": {},
   "outputs": [
    {
     "name": "stdout",
     "output_type": "stream",
     "text": [
      "Speak of the North! A lonely moor\n",
      "Silent and dark and tractless swells,\n",
      "The waves of some wild streamlet pour\n",
      "Hurriedly through its ferny dells.\n",
      "\n",
      "Profoundly still the twilight air,\n",
      "Lifeless the landscape; so we deem\n",
      "Till like a phantom gliding near\n",
      "A stag bends down to drink the stream.\n",
      "\n",
      "And far away a mountain zone,\n",
      "A cold, white waste of snow-drifts lies,\n",
      "And one star, large and soft and lone,\n",
      "Silently lights the unclouded skies.\n"
     ]
    }
   ],
   "source": [
    " \n",
    "import json\n",
    "  \n",
    "\n",
    "f = open('users.json4')\n",
    "  \n",
    "\n",
    "data = json.load(f)\n",
    "  \n",
    "\n",
    "for i in data['lines']:\n",
    "    print(i)\n",
    "  \n",
    "\n",
    "f.close()\n",
    "\n"
   ]
  },
  {
   "cell_type": "code",
   "execution_count": 60,
   "metadata": {},
   "outputs": [
    {
     "name": "stdout",
     "output_type": "stream",
     "text": [
      "polarity value= -0.036281179138321996\n"
     ]
    }
   ],
   "source": [
    "import spacy\n",
    "nlp = spacy.load('en_core_web_sm')\n",
    "from spacytextblob.spacytextblob import SpacyTextBlob\n",
    "nlp.add_pipe('spacytextblob')\n",
    "\n",
    "mytext = \"Speak of the North! A lonely moor', 'Silent and dark and tractless swells,', 'The waves of some wild streamlet pour', 'Hurriedly through its ferny dells.', '', 'Profoundly still the twilight air,', 'Lifeless the landscape; so we deem', 'Till like a phantom gliding near', 'A stag bends down to drink the stream.', '', 'And far away a mountain zone,', 'A cold, white waste of snow-drifts lies,', 'And one star, large and soft and lone,', 'Silently lights the unclouded skies.\"\n",
    "\n",
    "docx = nlp(mytext)\n",
    "print('polarity value=',docx._.polarity)"
   ]
  },
  {
   "cell_type": "markdown",
   "metadata": {},
   "source": [
    "I agree with the negative sentiment analysis. This is because the statement has multiple negative keywords such as \"lonely\", \"dark\", \"lifeless\" and \"phantom.\" These seem to outweight the positive words. "
   ]
  },
  {
   "cell_type": "code",
   "execution_count": 63,
   "metadata": {},
   "outputs": [
    {
     "name": "stdout",
     "output_type": "stream",
     "text": [
      "SOME have won a wild delight,\n",
      "By daring wilder sorrow;\n",
      "Could I gain thy love to-night,\n",
      "I'd hazard death to-morrow.\n",
      "\n",
      "Could the battle-struggle earn\n",
      "One kind glance from thine eye,\n",
      "How this withering heart would burn,\n",
      "The heady fight to try !\n",
      "\n",
      "Welcome nights of broken sleep,\n",
      "And days of carnage cold,\n",
      "Could I deem that thou wouldst weep\n",
      "To hear my perils told.\n",
      "\n",
      "Tell me, if with wandering bands\n",
      "I roam full far away,\n",
      "Wilt thou, to those distant lands,\n",
      "In spirit ever stray ?\n",
      "\n",
      "Wild, long, a trumpet sounds afar;\n",
      "Bid me­bid me go\n",
      "Where Seik and Briton meet in war,\n",
      "On Indian Sutlej's flow.\n",
      "\n",
      "Blood has dyed the Sutlej's waves\n",
      "With scarlet stain, I know;\n",
      "Indus' borders yawn with graves,\n",
      "Yet, command me go !\n",
      "\n",
      "Though rank and high the holocaust\n",
      "Of nations, steams to heaven,\n",
      "Glad I'd join the death-doomed host,\n",
      "Were but the mandate given.\n",
      "\n",
      "Passion's strength should nerve my arm,\n",
      "Its ardour stir my life,\n",
      "Till human force to that dread charm\n",
      "Should yield and sink in wild alarm,\n",
      "Like trees to tempest-strife.\n",
      "\n",
      "If, hot from war, I seek thy love,\n",
      "Darest thou turn aside ?\n",
      "Darest thou, then, my fire reprove,\n",
      "By scorn, and maddening pride ?\n",
      "\n",
      "No­my will shall yet control\n",
      "Thy will, so high and free,\n",
      "And love shall tame that haughty soul­\n",
      "Yes­tenderest love for me.\n",
      "\n",
      "I'll read my triumph in thine eyes,\n",
      "Behold, and prove the change;\n",
      "Then leave, perchance, my noble prize,\n",
      "Once more in arms to range.\n",
      "\n",
      "I'd die when all the foam is up,\n",
      "The bright wine sparkling high;\n",
      "Nor wait till in the exhausted cup\n",
      "Life's dull dregs only lie.\n",
      "\n",
      "Then Love thus crowned with sweet reward,\n",
      "Hope blest with fulness large,\n",
      "I'd mount the saddle, draw the sword,\n",
      "And perish in the charge!\n"
     ]
    }
   ],
   "source": [
    "import json\n",
    "  \n",
    "\n",
    "f = open('users.json1')\n",
    "  \n",
    "\n",
    "data = json.load(f)\n",
    "  \n",
    "\n",
    "for i in data['lines']:\n",
    "    print(i)\n",
    "  \n",
    "\n",
    "f.close()\n"
   ]
  },
  {
   "cell_type": "code",
   "execution_count": 66,
   "metadata": {},
   "outputs": [
    {
     "name": "stdout",
     "output_type": "stream",
     "text": [
      "polarity value= 0.26250000000000007\n"
     ]
    }
   ],
   "source": [
    "import spacy\n",
    "nlp = spacy.load('en_core_web_sm')\n",
    "from spacytextblob.spacytextblob import SpacyTextBlob\n",
    "nlp.add_pipe('spacytextblob')\n",
    "\n",
    "mytext1 = \"SOME have won a wild delight,By daring wilder sorrow;Could I gain thy love to-night,I'd hazard death to-morrow.Could the battle-struggle earnOne kind glance from thine eye,How this withering heart would burn,The heady fight to try !Welcome nights of broken sleep,And days of carnage cold,Could I deem that thou wouldst weepTo hear my perils told.Tell me, if with wandering bandsI roam full far away,Wilt thou, to those distant lands,In spirit ever stray ?\"\n",
    "\n",
    "docx = nlp(mytext1)\n",
    "print('polarity value=',docx._.polarity)"
   ]
  },
  {
   "cell_type": "markdown",
   "metadata": {},
   "source": [
    "#I agree with this positive analysis because the positive words outweight the negative. There are keywords such as \"delight\" and \"love\" that support this."
   ]
  },
  {
   "cell_type": "code",
   "execution_count": 68,
   "metadata": {},
   "outputs": [
    {
     "name": "stdout",
     "output_type": "stream",
     "text": [
      "WE take from life one little share,\n",
      "And say that this shall be\n",
      "A space, redeemed from toil and care,\n",
      "From tears and sadness free.\n",
      "\n",
      "And, haply, Death unstrings his bow\n",
      "And Sorrow stands apart,\n",
      "And, for a little while, we know\n",
      "The sunshine of the heart.\n",
      "\n",
      "Existence seems a summer eve,\n",
      "Warm, soft, and full of peace;\n",
      "Our free, unfettered feelings give\n",
      "The soul its full release.\n",
      "\n",
      "A moment, then, it takes the power,\n",
      "To call up thoughts that throw\n",
      "Around that charmed and hallowed hour,\n",
      "This life's divinest glow.\n",
      "\n",
      "But Time, though viewlessly it flies,\n",
      "And slowly, will not stay;\n",
      "Alike, through clear and clouded skies,\n",
      "It cleaves its silent way.\n",
      "\n",
      "Alike the bitter cup of grief,\n",
      "Alike the draught of bliss,\n",
      "Its progress leaves but moment brief\n",
      "For baffled lips to kiss.\n",
      "\n",
      "The sparkling draught is dried away,\n",
      "The hour of rest is gone,\n",
      "And urgent voices, round us, say,\n",
      "' Ho, lingerer, hasten on !'\n",
      "\n",
      "And has the soul, then, only gained,\n",
      "From this brief time of ease,\n",
      "A moment's rest, when overstrained,\n",
      "One hurried glimpse of peace ?\n",
      "\n",
      "No; while the sun shone kindly o'er us,\n",
      "And flowers bloomed round our feet,­\n",
      "While many a bud of joy before us\n",
      "Unclosed its petals sweet,­\n",
      "\n",
      "An unseen work within was plying;\n",
      "Like honey-seeking bee,\n",
      "From flower to flower, unwearied, flying,\n",
      "Laboured one faculty,­\n",
      "\n",
      "Thoughtful for Winter's future sorrow,\n",
      "Its gloom and scarcity;\n",
      "Prescient to-day, of want to-morrow,\n",
      "Toiled quiet Memory.\n",
      "\n",
      "'Tis she that from each transient pleasure\n",
      "Extracts a lasting good;\n",
      "'Tis she that finds, in summer, treasure\n",
      "To serve for winter's food.\n",
      "\n",
      "And when Youth's summer day is vanished,\n",
      "And Age brings Winter's stress,\n",
      "Her stores, with hoarded sweets replenished,\n",
      "Life's evening hours will bless.\n",
      "polarity value= 0.10625000000000001\n"
     ]
    }
   ],
   "source": [
    "import json\n",
    "  \n",
    "\n",
    "f = open('users.json2')\n",
    "  \n",
    "\n",
    "data = json.load(f)\n",
    "  \n",
    "\n",
    "for i in data['lines']:\n",
    "    print(i)\n",
    "  \n",
    "\n",
    "f.close()\n",
    "\n",
    "import spacy\n",
    "nlp = spacy.load('en_core_web_sm')\n",
    "from spacytextblob.spacytextblob import SpacyTextBlob\n",
    "nlp.add_pipe('spacytextblob')\n",
    "\n",
    "mytext2 = \"WE take from life one little share, And say that this shall beA space, redeemed from toil and care,From tears and sadness free. And when Youth's summer day is vanished,And Age brings Winter's stress,Her stores, with hoarded sweets replenished,Life's evening hours will bless. \"\n",
    "\n",
    "docx = nlp(mytext2)\n",
    "print('polarity value=',docx._.polarity)"
   ]
  },
  {
   "cell_type": "markdown",
   "metadata": {},
   "source": [
    "#I agree with this analysis because this poem seems more neutral positive. It seems the positive words like \"Sweet\" and \"Sun\" are pretty well matched with negative words such as \"bitter\" and \"grief\""
   ]
  },
  {
   "cell_type": "code",
   "execution_count": 71,
   "metadata": {},
   "outputs": [
    {
     "name": "stdout",
     "output_type": "stream",
     "text": [
      "I've quenched my lamp, I struck it in that start\n",
      "Which every limb convulsed, I heard it fall­\n",
      "The crash blent with my sleep, I saw depart\n",
      "Its light, even as I woke, on yonder wall;\n",
      "Over against my bed, there shone a gleam\n",
      "Strange, faint, and mingling also with my dream.\n",
      "\n",
      "It sunk, and I am wrapt in utter gloom;\n",
      "How far is night advanced, and when will day\n",
      "Retinge the dusk and livid air with bloom,\n",
      "And fill this void with warm, creative ray ?\n",
      "Would I could sleep again till, clear and red,\n",
      "Morning shall on the mountain-tops be spread!\n",
      "\n",
      "I'd call my women, but to break their sleep,\n",
      "Because my own is broken, were unjust;\n",
      "\n",
      "They've wrought all day, and well-earned slumbers steep\n",
      "Their labours in forgetfulness, I trust;\n",
      "Let me my feverish watch with patience bear,\n",
      "Thankful that none with me its sufferings share.\n",
      "\n",
      "Yet, Oh, for light ! one ray would tranquilise\n",
      "My nerves, my pulses, more than effort can;\n",
      "I'll draw my curtain and consult the skies:\n",
      "These trembling stars at dead of night look wan,\n",
      "Wild, restless, strange, yet cannot be more drear\n",
      "Than this my couch, shared by a nameless fear.\n",
      "\n",
      "All black­one great cloud, drawn from east to west,\n",
      "Conceals the heavens, but there are lights below;\n",
      "Torches burn in Jerusalem, and cast\n",
      "On yonder stony mount a lurid glow.\n",
      "I see men stationed there, and gleaming spears;\n",
      "A sound, too, from afar, invades my ears.\n",
      "\n",
      "Dull, measured, strokes of axe and hammer ring\n",
      "From street to street, not loud, but through the night\n",
      "Distinctly heard­and some strange spectral thing\n",
      "Is now upreared­and, fixed against the light\n",
      "Of the pale lamps; defined upon that sky,\n",
      "It stands up like a column, straight and high.\n",
      "\n",
      "I see it all­I know the dusky sign­\n",
      "A cross on Calvary, which Jews uprear\n",
      "\n",
      "While Romans watch; and when the dawn shall shine\n",
      "Pilate, to judge the victim will appear,\n",
      "Pass sentence­yield him up to crucify;\n",
      "And on that cross the spotless Christ must die.\n",
      "\n",
      "Dreams, then, are true­for thus my vision ran;\n",
      "Surely some oracle has been with me,\n",
      "The gods have chosen me to reveal their plan,\n",
      "To warn an unjust judge of destiny:\n",
      "I, slumbering, heard and saw; awake I know,\n",
      "Christ's coming death, and Pilate's life of woe.\n",
      "\n",
      "I do not weep for Pilate­who could prove\n",
      "Regret for him whose cold and crushing sway\n",
      "No prayer can soften, no appeal can move;\n",
      "Who tramples hearts as others trample clay,\n",
      "Yet with a faltering, an uncertain tread,\n",
      "That might stir up reprisal in the dead.\n",
      "\n",
      "Forced to sit by his side and see his deeds;\n",
      "Forced to behold that visage, hour by hour,\n",
      "In whose gaunt lines, the abhorrent gazer reads\n",
      "A triple lust of gold, and blood, and power;\n",
      "A soul whom motives, fierce, yet abject, urge\n",
      "Rome's servile slave, and Judah's tyrant scourge.\n",
      "\n",
      "How can I love, or mourn, or pity him ?\n",
      "I, who so long my fettered hands have wrung;\n",
      "\n",
      "I, who for grief have wept my eye-sight dim;\n",
      "Because, while life for me was bright and young,\n",
      "He robbed my youth­he quenched my life's fair ray­\n",
      "He crushed my mind, and did my freedom slay.\n",
      "\n",
      "\n",
      "And at this hour­although I be his wife­\n",
      "He has no more of tenderness from me\n",
      "Than any other wretch of guilty life;\n",
      "Less, for I know his household privacy­\n",
      "I see him as he is­without a screen;\n",
      "And, by the gods, my soul abhors his mien !\n",
      "\n",
      "Has he not sought my presence, dyed in blood­\n",
      "Innocent, righteous blood, shed shamelessly ?\n",
      "And have I not his red salute withstood ?\n",
      "Aye,­when, as erst, he plunged all Galilee\n",
      "In dark bereavement­in affliction sore,\n",
      "Mingling their very offerings with their gore.\n",
      "\n",
      "Then came he­in his eyes a serpent-smile,\n",
      "Upon his lips some false, endearing word,\n",
      "And, through the streets of Salem, clanged the while,\n",
      "His slaughtering, hacking, sacrilegious sword­\n",
      "And I, to see a man cause men such woe,\n",
      "Trembled with ire­I did not fear to show.\n",
      "\n",
      "And now, the envious Jewish priests have brought\n",
      "Jesus­whom they in mockery call their king­\n",
      "\n",
      "To have, by this grim power, their vengeance wrought;\n",
      "By this mean reptile, innocence to sting.\n",
      "Oh ! could I but the purposed doom avert,\n",
      "And shield the blameless head from cruel hurt!\n",
      "\n",
      "Accessible is Pilate's heart to fear,\n",
      "Omens will shake his soul, like autumn leaf;\n",
      "Could he this night's appalling vision hear,\n",
      "This just man's bonds were loosed, his life were safe,\n",
      "Unless that bitter priesthood should prevail,\n",
      "And make even terror to their malice quail.\n",
      "\n",
      "Yet if I tell the dream­but let me pause.\n",
      "What dream ? Erewhile the characters were clear,\n",
      "Graved on my brain­at once some unknown cause\n",
      "Has dimmed and rased the thoughts, which now appear,\n",
      "Like a vague remnant of some by-past scene;­\n",
      "Not what will be, but what, long since, has been.\n",
      "\n",
      "I suffered many things, I heard foretold\n",
      "A dreadful doom for Pilate,­lingering woes,\n",
      "In far, barbarian climes, where mountains cold\n",
      "Built up a solitude of trackless snows,\n",
      "There, he and grisly wolves prowled side by side,\n",
      "There he lived famished­there methought he died;\n",
      "\n",
      "But not of hunger, nor by malady;\n",
      "I saw the snow around him, stained with gore;\n",
      "\n",
      "I said I had no tears for such as he,\n",
      "And, lo ! my cheek is wet­mine eyes run o'er;\n",
      "I weep for mortal suffering, mortal guilt,\n",
      "I weep the impious deed­the blood self-spilt.\n",
      "\n",
      "More I recall not, yet the vision spread\n",
      "Into a world remote, an age to come­\n",
      "And still the illumined name of Jesus shed\n",
      "A light, a clearness, through the enfolding gloom­\n",
      "And still I saw that sign, which now I see,\n",
      "That cross on yonder brow of Calvary.\n",
      "\n",
      "What is this Hebrew Christ ? To me unknown,\n",
      "His lineage­doctrine­mission­yet how clear,\n",
      "Is God-like goodness, in his actions shewn !\n",
      "How straight and stainless is his life's career !\n",
      "The ray of Deity that rests on him,\n",
      "In my eyes makes Olympian glory dim.\n",
      "\n",
      "The world advances, Greek, or Roman rite\n",
      "Suffices not the inquiring mind to stay;\n",
      "The searching soul demands a purer light\n",
      "To guide it on its upward, onward way;\n",
      "Ashamed of sculptured gods­Religion turns\n",
      "To where the unseen Jehovah's altar burns.\n",
      "\n",
      "Our faith is rotten­all our rites defiled,\n",
      "Our temples sullied, and methinks, this man,\n",
      "With his new ordinance, so wise and mild,\n",
      "Is come, even as he says, the chaff to fan\n",
      "\n",
      "And sever from the wheat; but will his faith\n",
      "Survive the terrors of to-morrow's death ?\n",
      "\n",
      "* * * * *\n",
      "\n",
      "I feel a firmer trust­a higher hope\n",
      "Rise in my soul­it dawns with dawning day;\n",
      "Lo ! on the Temple's roof­on Moriah's slope\n",
      "Appears at length that clear, and crimson ray,\n",
      "Which I so wished for when shut in by night;\n",
      "Oh, opening skies, I hail, I bless your light !\n",
      "\n",
      "Part, clouds and shadows ! glorious Sun appear !\n",
      "Part, mental gloom ! Come insight from on high !\n",
      "Dusk dawn in heaven still strives with daylight clear,\n",
      "The longing soul, doth still uncertain sigh.\n",
      "Oh ! to behold the truth­that sun divine,\n",
      "How doth my bosom pant, my spirit pine !\n",
      "\n",
      "This day, time travails with a mighty birth,\n",
      "This day, Truth stoops from heaven and visits earth,\n",
      "Ere night descends, I shall more surely know\n",
      "What guide to follow, in what path to go;\n",
      "I wait in hope­I wait in solemn fear,\n",
      "The oracle of God­the sole­true God­to hear.\n",
      "polarity value= 0.26\n"
     ]
    }
   ],
   "source": [
    "import json\n",
    "  \n",
    "\n",
    "f = open('users.json3')\n",
    "  \n",
    "\n",
    "data = json.load(f)\n",
    "  \n",
    "\n",
    "for i in data['lines']:\n",
    "    print(i)\n",
    "  \n",
    "\n",
    "f.close()\n",
    "\n",
    "import spacy\n",
    "nlp = spacy.load('en_core_web_sm')\n",
    "from spacytextblob.spacytextblob import SpacyTextBlob\n",
    "nlp.add_pipe('spacytextblob')\n",
    "\n",
    "mytext3 = \"I've quenched my lamp, I struck it in that startWhich every limb convulsed, I heard it fall­The crash blent with my sleep, I saw departIts light, even as I woke, on yonder wall;Over against my bed, there shone a gleamStrange, faint, and mingling also with my dream.This day, time travails with a mighty birth,This day, Truth stoops from heaven and visits earth,Ere night descends, I shall more surely knowWhat guide to follow, in what path to go;I wait in hope­I wait in solemn fear,The oracle of God­the sole­true God­to hear.\"\n",
    "\n",
    "docx = nlp(mytext3)\n",
    "print('polarity value=',docx._.polarity)"
   ]
  },
  {
   "cell_type": "markdown",
   "metadata": {},
   "source": [
    "#I agree with this analysis because there are more positive words such as \"bless\", \"light\" and \"hope\" compared to the few negative words within the poem."
   ]
  },
  {
   "cell_type": "code",
   "execution_count": null,
   "metadata": {},
   "outputs": [],
   "source": []
  }
 ],
 "metadata": {
  "kernelspec": {
   "display_name": "Python 3 (ipykernel)",
   "language": "python",
   "name": "python3"
  },
  "language_info": {
   "codemirror_mode": {
    "name": "ipython",
    "version": 3
   },
   "file_extension": ".py",
   "mimetype": "text/x-python",
   "name": "python",
   "nbconvert_exporter": "python",
   "pygments_lexer": "ipython3",
   "version": "3.10.8"
  }
 },
 "nbformat": 4,
 "nbformat_minor": 4
}
